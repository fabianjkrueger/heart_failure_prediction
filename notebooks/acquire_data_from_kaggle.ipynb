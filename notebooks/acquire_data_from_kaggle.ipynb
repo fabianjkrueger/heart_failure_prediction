{
 "cells": [
  {
   "cell_type": "markdown",
   "metadata": {},
   "source": [
    "# Data Acquisition\n",
    "\n",
    "In this notebook, I will briefly summarise the project idea, explain why I chose that specific data set what I aim to do with it. I will download the data from Kaggle using its API."
   ]
  },
  {
   "cell_type": "markdown",
   "metadata": {},
   "source": []
  }
 ],
 "metadata": {
  "language_info": {
   "name": "python"
  },
  "orig_nbformat": 4
 },
 "nbformat": 4,
 "nbformat_minor": 2
}
